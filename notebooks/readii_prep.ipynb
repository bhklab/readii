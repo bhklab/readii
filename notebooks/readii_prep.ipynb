{
 "cells": [
  {
   "cell_type": "code",
   "execution_count": 1,
   "metadata": {},
   "outputs": [],
   "source": [
    "from logging import getLogger\n",
    "from pathlib import Path\n",
    "\n",
    "import pandas as pd\n",
    "import SimpleITK as sitk\n",
    "import yaml\n",
    "from imgtools.autopipeline import AutoPipeline\n",
    "from tqdm import tqdm\n",
    "from tqdm.contrib.logging import logging_redirect_tqdm\n",
    "\n",
    "from readii.io import NIFTIWriter\n",
    "from readii.negative_controls_refactor import NegativeControlManager\n",
    "from readii.utils import logger\n",
    "\n",
    "logger.setLevel(\"INFO\")\n",
    "logger.debug(\"Starting Notebook.\")"
   ]
  },
  {
   "cell_type": "code",
   "execution_count": 2,
   "metadata": {},
   "outputs": [],
   "source": [
    "data_dir = Path().cwd().parent / \"TRASH\" / \"data\"\n",
    "INPUT_DATA = data_dir / \"dicom\"\n",
    "\n",
    "# idk save med-imagetools to temp dir \n",
    "OUTPUT_DATA = Path('/tmp') / \"mit-generated-niftis\"\n",
    "NEGATIVE_CONTROL_OUTPUT_DIR = data_dir / \"negative-controls-niftis\" \n",
    "\n",
    "# These could probably be in a config file\n",
    "MODALITIES = \"CT,RTSTRUCT\"\n",
    "CT_FILE_NAME = \"CT.nii.gz\"\n",
    "ROI_OF_INTEREST = \"GTV\"\n",
    "RTSTRUCT_FILE_NAME = f\"{ROI_OF_INTEREST}.nii.gz\"  # Not used to CREATE, but used to MATCH against med-imagetools\n",
    "\n",
    "NEGATIVE_CONTROLS = [\"sampled\", \"shuffled\", \"randomized\"]\n",
    "NEGATIVE_CONTROL_REGIONS = [\"roi\", \"non_roi\", \"full\"]\n",
    "RANDOM_SEED = 10"
   ]
  },
  {
   "cell_type": "markdown",
   "metadata": {},
   "source": [
    "# Initialize "
   ]
  },
  {
   "cell_type": "code",
   "execution_count": 3,
   "metadata": {},
   "outputs": [],
   "source": [
    "# Make sure the directories exist \n",
    "OUTPUT_DATA.mkdir(exist_ok=True)\n",
    "\n",
    "# delete NEGATIVE_CONTROL_OUTPUT_DIR \n",
    "if NEGATIVE_CONTROL_OUTPUT_DIR.exists():\n",
    "  import shutil\n",
    "  shutil.rmtree(NEGATIVE_CONTROL_OUTPUT_DIR)\n",
    "\n",
    "# Save the ROI regex to a YAML file\n",
    "roi_matches = {\n",
    "  ROI_OF_INTEREST: \"^(GTV1)$\"\n",
    "}\n",
    "\n",
    "with Path(INPUT_DATA, \"mit_roi_names.yaml\").open(\"w\") as outfile:\n",
    "    yaml.dump(roi_matches, outfile)"
   ]
  },
  {
   "cell_type": "markdown",
   "metadata": {},
   "source": [
    "# Med-ImageTools Run"
   ]
  },
  {
   "cell_type": "code",
   "execution_count": null,
   "metadata": {},
   "outputs": [],
   "source": [
    "pipeline = AutoPipeline(input_directory=INPUT_DATA,\n",
    "                        output_directory=OUTPUT_DATA,\n",
    "                        modalities=MODALITIES,\n",
    "                        spacing=(0., 0., 0.),\n",
    "                        ignore_missing_regex = True,\n",
    "                        update=True,\n",
    "                        read_yaml_label_names = True,\n",
    "                        roi_yaml_path = Path(INPUT_DATA, \"mit_roi_names.yaml\")\n",
    "                        )\n",
    "\n",
    "pipeline.run()"
   ]
  },
  {
   "cell_type": "markdown",
   "metadata": {},
   "source": [
    "# Negative Control Builder"
   ]
  },
  {
   "cell_type": "code",
   "execution_count": 5,
   "metadata": {},
   "outputs": [
    {
     "name": "stderr",
     "output_type": "stream",
     "text": [
      "\u001b[2m2024-12-06T10:18:07-0500\u001b[0m [\u001b[32m\u001b[1minfo     \u001b[0m] \u001b[1mProcessing row: 0_HN-CHUS-052 \u001b[0m [\u001b[0m\u001b[1m\u001b[34mreadii\u001b[0m]\u001b[0m \u001b[36mcall\u001b[0m=\u001b[35m1233259270.<module>:36\u001b[0m\n",
      "                                                          \n",
      "\u001b[A                                                                \u001b[2m2024-12-06T10:18:08-0500\u001b[0m [\u001b[32m\u001b[1minfo     \u001b[0m] \u001b[1mProcessing negative control: sampled\u001b[0m [\u001b[0m\u001b[1m\u001b[34mreadii\u001b[0m]\u001b[0m \u001b[36mcall\u001b[0m=\u001b[35m1233259270.<module>:54\u001b[0m \u001b[36mregion\u001b[0m=\u001b[35mroi\u001b[0m\n",
      "                                                          \n",
      "\u001b[A                                                                \u001b[2m2024-12-06T10:18:08-0500\u001b[0m [\u001b[32m\u001b[1minfo     \u001b[0m] \u001b[1mProcessing negative control: sampled\u001b[0m [\u001b[0m\u001b[1m\u001b[34mreadii\u001b[0m]\u001b[0m \u001b[36mcall\u001b[0m=\u001b[35m1233259270.<module>:54\u001b[0m \u001b[36mregion\u001b[0m=\u001b[35mnon_roi\u001b[0m\n",
      "                                                          \n",
      "\u001b[A                                                                \u001b[2m2024-12-06T10:18:08-0500\u001b[0m [\u001b[32m\u001b[1minfo     \u001b[0m] \u001b[1mProcessing negative control: sampled\u001b[0m [\u001b[0m\u001b[1m\u001b[34mreadii\u001b[0m]\u001b[0m \u001b[36mcall\u001b[0m=\u001b[35m1233259270.<module>:54\u001b[0m \u001b[36mregion\u001b[0m=\u001b[35mfull\u001b[0m\n",
      "                                                          \n",
      "\u001b[A                                                                \u001b[2m2024-12-06T10:18:08-0500\u001b[0m [\u001b[32m\u001b[1minfo     \u001b[0m] \u001b[1mProcessing negative control: shuffled\u001b[0m [\u001b[0m\u001b[1m\u001b[34mreadii\u001b[0m]\u001b[0m \u001b[36mcall\u001b[0m=\u001b[35m1233259270.<module>:54\u001b[0m \u001b[36mregion\u001b[0m=\u001b[35mroi\u001b[0m\n",
      "                                                          \n",
      "\u001b[A                                                                \u001b[2m2024-12-06T10:18:08-0500\u001b[0m [\u001b[32m\u001b[1minfo     \u001b[0m] \u001b[1mProcessing negative control: shuffled\u001b[0m [\u001b[0m\u001b[1m\u001b[34mreadii\u001b[0m]\u001b[0m \u001b[36mcall\u001b[0m=\u001b[35m1233259270.<module>:54\u001b[0m \u001b[36mregion\u001b[0m=\u001b[35mnon_roi\u001b[0m\n",
      "                                                          \n",
      "\u001b[A                                                                \u001b[2m2024-12-06T10:18:08-0500\u001b[0m [\u001b[32m\u001b[1minfo     \u001b[0m] \u001b[1mProcessing negative control: shuffled\u001b[0m [\u001b[0m\u001b[1m\u001b[34mreadii\u001b[0m]\u001b[0m \u001b[36mcall\u001b[0m=\u001b[35m1233259270.<module>:54\u001b[0m \u001b[36mregion\u001b[0m=\u001b[35mfull\u001b[0m\n",
      "                                                          \n",
      "\u001b[A                                                                \u001b[2m2024-12-06T10:18:08-0500\u001b[0m [\u001b[32m\u001b[1minfo     \u001b[0m] \u001b[1mProcessing negative control: randomized\u001b[0m [\u001b[0m\u001b[1m\u001b[34mreadii\u001b[0m]\u001b[0m \u001b[36mcall\u001b[0m=\u001b[35m1233259270.<module>:54\u001b[0m \u001b[36mregion\u001b[0m=\u001b[35mroi\u001b[0m\n",
      "                                                          \n",
      "\u001b[A                                                                \u001b[2m2024-12-06T10:18:08-0500\u001b[0m [\u001b[32m\u001b[1minfo     \u001b[0m] \u001b[1mProcessing negative control: randomized\u001b[0m [\u001b[0m\u001b[1m\u001b[34mreadii\u001b[0m]\u001b[0m \u001b[36mcall\u001b[0m=\u001b[35m1233259270.<module>:54\u001b[0m \u001b[36mregion\u001b[0m=\u001b[35mnon_roi\u001b[0m\n",
      "                                                          \n",
      "\u001b[A                                                                \u001b[2m2024-12-06T10:18:08-0500\u001b[0m [\u001b[32m\u001b[1minfo     \u001b[0m] \u001b[1mProcessing negative control: randomized\u001b[0m [\u001b[0m\u001b[1m\u001b[34mreadii\u001b[0m]\u001b[0m \u001b[36mcall\u001b[0m=\u001b[35m1233259270.<module>:54\u001b[0m \u001b[36mregion\u001b[0m=\u001b[35mfull\u001b[0m\n",
      "\u001b[2m2024-12-06T10:18:08-0500\u001b[0m [\u001b[32m\u001b[1minfo     \u001b[0m] \u001b[1mProcessing row: 1_HN-CHUS-082 \u001b[0m [\u001b[0m\u001b[1m\u001b[34mreadii\u001b[0m]\u001b[0m \u001b[36mcall\u001b[0m=\u001b[35m1233259270.<module>:36\u001b[0m\n",
      "                                                                  \n",
      "\u001b[A                                                                \u001b[2m2024-12-06T10:18:09-0500\u001b[0m [\u001b[32m\u001b[1minfo     \u001b[0m] \u001b[1mProcessing negative control: sampled\u001b[0m [\u001b[0m\u001b[1m\u001b[34mreadii\u001b[0m]\u001b[0m \u001b[36mcall\u001b[0m=\u001b[35m1233259270.<module>:54\u001b[0m \u001b[36mregion\u001b[0m=\u001b[35mroi\u001b[0m\n",
      "                                                                  \n",
      "\u001b[A                                                                \u001b[2m2024-12-06T10:18:09-0500\u001b[0m [\u001b[32m\u001b[1minfo     \u001b[0m] \u001b[1mProcessing negative control: sampled\u001b[0m [\u001b[0m\u001b[1m\u001b[34mreadii\u001b[0m]\u001b[0m \u001b[36mcall\u001b[0m=\u001b[35m1233259270.<module>:54\u001b[0m \u001b[36mregion\u001b[0m=\u001b[35mnon_roi\u001b[0m\n",
      "                                                                  \n",
      "\u001b[A                                                                \u001b[2m2024-12-06T10:18:09-0500\u001b[0m [\u001b[32m\u001b[1minfo     \u001b[0m] \u001b[1mProcessing negative control: sampled\u001b[0m [\u001b[0m\u001b[1m\u001b[34mreadii\u001b[0m]\u001b[0m \u001b[36mcall\u001b[0m=\u001b[35m1233259270.<module>:54\u001b[0m \u001b[36mregion\u001b[0m=\u001b[35mfull\u001b[0m\n",
      "                                                                  \n",
      "\u001b[A                                                                \u001b[2m2024-12-06T10:18:09-0500\u001b[0m [\u001b[32m\u001b[1minfo     \u001b[0m] \u001b[1mProcessing negative control: shuffled\u001b[0m [\u001b[0m\u001b[1m\u001b[34mreadii\u001b[0m]\u001b[0m \u001b[36mcall\u001b[0m=\u001b[35m1233259270.<module>:54\u001b[0m \u001b[36mregion\u001b[0m=\u001b[35mroi\u001b[0m\n",
      "                                                                  \n",
      "\u001b[A                                                                \u001b[2m2024-12-06T10:18:09-0500\u001b[0m [\u001b[32m\u001b[1minfo     \u001b[0m] \u001b[1mProcessing negative control: shuffled\u001b[0m [\u001b[0m\u001b[1m\u001b[34mreadii\u001b[0m]\u001b[0m \u001b[36mcall\u001b[0m=\u001b[35m1233259270.<module>:54\u001b[0m \u001b[36mregion\u001b[0m=\u001b[35mnon_roi\u001b[0m\n",
      "                                                                  \n",
      "\u001b[A                                                                \u001b[2m2024-12-06T10:18:09-0500\u001b[0m [\u001b[32m\u001b[1minfo     \u001b[0m] \u001b[1mProcessing negative control: shuffled\u001b[0m [\u001b[0m\u001b[1m\u001b[34mreadii\u001b[0m]\u001b[0m \u001b[36mcall\u001b[0m=\u001b[35m1233259270.<module>:54\u001b[0m \u001b[36mregion\u001b[0m=\u001b[35mfull\u001b[0m\n",
      "                                                                  \n",
      "\u001b[A                                                                \u001b[2m2024-12-06T10:18:09-0500\u001b[0m [\u001b[32m\u001b[1minfo     \u001b[0m] \u001b[1mProcessing negative control: randomized\u001b[0m [\u001b[0m\u001b[1m\u001b[34mreadii\u001b[0m]\u001b[0m \u001b[36mcall\u001b[0m=\u001b[35m1233259270.<module>:54\u001b[0m \u001b[36mregion\u001b[0m=\u001b[35mroi\u001b[0m\n",
      "                                                                  \n",
      "\u001b[A                                                                \u001b[2m2024-12-06T10:18:09-0500\u001b[0m [\u001b[32m\u001b[1minfo     \u001b[0m] \u001b[1mProcessing negative control: randomized\u001b[0m [\u001b[0m\u001b[1m\u001b[34mreadii\u001b[0m]\u001b[0m \u001b[36mcall\u001b[0m=\u001b[35m1233259270.<module>:54\u001b[0m \u001b[36mregion\u001b[0m=\u001b[35mnon_roi\u001b[0m\n",
      "                                                                  \n",
      "\u001b[A                                                                \u001b[2m2024-12-06T10:18:09-0500\u001b[0m [\u001b[32m\u001b[1minfo     \u001b[0m] \u001b[1mProcessing negative control: randomized\u001b[0m [\u001b[0m\u001b[1m\u001b[34mreadii\u001b[0m]\u001b[0m \u001b[36mcall\u001b[0m=\u001b[35m1233259270.<module>:54\u001b[0m \u001b[36mregion\u001b[0m=\u001b[35mfull\u001b[0m\n",
      "Processing subjects: 100%|██████████| 2/2 [00:02<00:00,  1.12s/it]\n"
     ]
    }
   ],
   "source": [
    "###############################################################\n",
    "# Create a NegativeControlManager object\n",
    "ncm = NegativeControlManager.from_strings(\n",
    "  negative_control_types=NEGATIVE_CONTROLS,\n",
    "  region_types=NEGATIVE_CONTROL_REGIONS,\n",
    "  random_seed=RANDOM_SEED,\n",
    ")\n",
    "\n",
    "\n",
    "###############################################################\n",
    "# Two writers, one for the original images and one for the negative controls\n",
    "original_nifti_writer = NIFTIWriter(\n",
    "  root_directory=NEGATIVE_CONTROL_OUTPUT_DIR,\n",
    "  filename_format=\"{SubjectID}/{Modality}/original.nii.gz\",\n",
    ")\n",
    "\n",
    "neg_nifti_writer = NIFTIWriter(\n",
    "  root_directory=NEGATIVE_CONTROL_OUTPUT_DIR,\n",
    "  filename_format=\"{SubjectID}/{Modality}/{NegativeControl}-{Region}.nii.gz\",\n",
    ")\n",
    "\n",
    "\n",
    "###############################################################\n",
    "\n",
    "images_metadata = pd.read_csv(\n",
    "  OUTPUT_DATA / \"dataset.csv\",\n",
    "  index_col=0,\n",
    ")\n",
    "\n",
    "# iterate over the rows of the dataframe\n",
    "readii_logger = getLogger('readii')\n",
    "with logging_redirect_tqdm([readii_logger]):\n",
    "  for row in tqdm(images_metadata.itertuples(), total=len(images_metadata), desc=\"Processing subjects\"):\n",
    "    ct_path = OUTPUT_DATA / row.output_folder_CT / CT_FILE_NAME\n",
    "    mask_path = OUTPUT_DATA / row.output_folder_RTSTRUCT_CT / RTSTRUCT_FILE_NAME\n",
    "    logger.info(f\"Processing row: {row.Index}\")\n",
    "    base_image = sitk.ReadImage(ct_path)\n",
    "    mask_image = sitk.ReadImage(mask_path)\n",
    "\n",
    "    # write the original images again\n",
    "    original_nifti_writer.save(\n",
    "      SubjectID=row.Index,\n",
    "      image=base_image,\n",
    "      Modality=\"CT\",\n",
    "    )\n",
    "\n",
    "    original_nifti_writer.save(\n",
    "      SubjectID=row.Index,\n",
    "      image=mask_image,\n",
    "      Modality=\"RTSTRUCT\",\n",
    "    )\n",
    "\n",
    "    for nc, st in tqdm(ncm.strategy_products, total=len(ncm), desc=\"Processing negative controls\", leave=False):\n",
    "      logger.info(f\"Processing negative control: {nc.name()}\", region=st.name())\n",
    "\n",
    "    # # Negative control manager's apply method returns a \n",
    "    # # tuple of (image: sitk.Image, negative_control: str, region: str)\n",
    "    # for image, negative_control, region in ncm.apply(base_image, mask_image):\n",
    "    #   output_nifti_path = neg_nifti_writer.save(\n",
    "    #     SubjectID=row.Index,\n",
    "    #     image=image,\n",
    "    #     NegativeControl=negative_control,\n",
    "    #     Region=region,\n",
    "    #     Modality=\"CT\",\n",
    "    #   )"
   ]
  },
  {
   "cell_type": "code",
   "execution_count": null,
   "metadata": {},
   "outputs": [],
   "source": [
    "!tree -F -C -I \"*.dcm\" $NEGATIVE_CONTROL_OUTPUT_DIR.parent"
   ]
  },
  {
   "cell_type": "code",
   "execution_count": null,
   "metadata": {},
   "outputs": [],
   "source": [
    "from readii.io.readers import NIFTIReader\n",
    "\n",
    "original_nifti_reader = NIFTIReader(\n",
    "\t\t\t# root_directory=Path(\"TRASH/data/nifti\"),\n",
    "\t\t\troot_directory=NEGATIVE_CONTROL_OUTPUT_DIR,\n",
    "\t\t\tfilename_pattern=\"{SubjectID}/{Modality}/original.nii.gz\",\n",
    ")\n",
    "\n",
    "neg_nifti_reader = NIFTIReader(\n",
    "\t\t\t# root_directory=Path(\"TRASH/data/negative-controls-niftis\"),\n",
    "\t\t\troot_directory=NEGATIVE_CONTROL_OUTPUT_DIR,\n",
    "\t\t\tfilename_pattern=\"{SubjectID}/{Modality}/{NegativeControl}-{Region}.nii.gz\",\n",
    "\t)\n",
    "\n",
    "original = original_nifti_reader.map_files()\n",
    "results = neg_nifti_reader.map_files()\n",
    "\n",
    "print(original)\n",
    "print(results)\n"
   ]
  },
  {
   "cell_type": "code",
   "execution_count": null,
   "metadata": {},
   "outputs": [],
   "source": []
  }
 ],
 "metadata": {
  "kernelspec": {
   "display_name": "dev",
   "language": "python",
   "name": "python3"
  },
  "language_info": {
   "codemirror_mode": {
    "name": "ipython",
    "version": 3
   },
   "file_extension": ".py",
   "mimetype": "text/x-python",
   "name": "python",
   "nbconvert_exporter": "python",
   "pygments_lexer": "ipython3",
   "version": "3.12.7"
  }
 },
 "nbformat": 4,
 "nbformat_minor": 2
}
