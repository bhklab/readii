{
 "cells": [
  {
   "cell_type": "code",
   "execution_count": 1,
   "metadata": {},
   "outputs": [],
   "source": [
    "from imgtools.io import read_dicom_series\n",
    "from readii.loaders import loadSegmentation\n",
    "from readii.image_processing import *\n",
    "from readii.negative_controls import applyNegativeControl, makeShuffleImage, negativeControlROIOnly, negativeControlNonROIOnly\n",
    "import numpy.ma as ma "
   ]
  },
  {
   "cell_type": "code",
   "execution_count": null,
   "metadata": {},
   "outputs": [],
   "source": [
    "baseImage = read_dicom_series(\"../tests/NSCLC_Radiogenomics/R01-001/09-06-1990-NA-CT_CHEST_ABD_PELVIS_WITH_CON-98785/3.000000-THORAX_1.0_B45f-95741\")\n",
    "\n",
    "segImages = loadSegmentation(\"../tests/NSCLC_Radiogenomics/R01-001/09-06-1990-NA-CT_CHEST_ABD_PELVIS_WITH_CON-98785/1000.000000-3D_Slicer_segmentation_result-67652/1-1.dcm\",\n",
    "                            modality = 'SEG')\n",
    "roiImage = segImages['Heart']\n",
    "flattenedROIImage = flattenImage(roiImage)\n",
    "baseROI = alignImages(baseImage, flattenedROIImage)\n",
    "\n",
    "roiLabel = getROIVoxelLabel(baseROI)\n",
    "\n",
    "randomSeed = 10"
   ]
  },
  {
   "cell_type": "code",
   "execution_count": 2,
   "metadata": {},
   "outputs": [
    {
     "name": "stdout",
     "output_type": "stream",
     "text": [
      "labels: {'GTVp': 0}\n"
     ]
    }
   ],
   "source": [
    "# ctDirPath = \"/Users/katyscott/Documents/HNC Project/data/error_images/RADCURE/RADCURE-2012/12-26-2001-NA-Research HNC Planning CT-39063/3.000000-Helical Axial-26282\"\n",
    "# segFilePath = \"/Users/katyscott/Documents/HNC Project/data/error_images/RADCURE/RADCURE-2012/12-26-2001-NA-Research HNC Planning CT-39063/1.000000-NA-03155/1-1.dcm\"\n",
    "\n",
    "ctDirPath = \"/Users/katyscott/Documents/HNC Project/data/error_images/RADCURE/RADCURE-3716/20091006-Research HNC Planning CT-1.3.6.1.4.1.14519.5.2.1.159479891309173287983489538813569798675/3-Neck 2.0 CE-1.3.6.1.4.1.14519.5.2.1.303618333208483957981299429120448318183\"\n",
    "segFilePath = \"/Users/katyscott/Documents/HNC Project/data/error_images/RADCURE/RADCURE-3716/20091006-Research HNC Planning CT-1.3.6.1.4.1.14519.5.2.1.159479891309173287983489538813569798675/1-UnknownSeriesDescription-1.3.6.1.4.1.14519.5.2.1.53689980185072466582338154816320570464/1.3.6.1.4.1.14519.5.2.1.196814539827040265136159678638398372874.dcm\"\n",
    "\n",
    "baseImage = read_dicom_series(ctDirPath)\n",
    "segImages = loadSegmentation(segFilePath, \"RTSTRUCT\", ctDirPath, roiNames=\"GTVp.*\")\n",
    "\n",
    "roiImage = segImages[\"GTVp\"]\n",
    "baseROI = alignImages(baseImage, roiImage)"
   ]
  },
  {
   "cell_type": "code",
   "execution_count": null,
   "metadata": {},
   "outputs": [],
   "source": [
    "# convert CT to array\n",
    "arrBaseImage = sitk.GetArrayFromImage(baseImage)\n",
    "\n",
    "# convert baseROI to array\n",
    "arrBaseROI = sitk.GetArrayFromImage(baseROI)\n",
    "\n",
    "# make binary mask out of ROI (NaN for background, 1 for ROI)\n",
    "binBaseROI = np.where(arrBaseROI > 0, 1, np.NaN)\n",
    "\n",
    "# multiply the mask by the CT to get just ROI voxels\n",
    "roiMaskedBaseImage = arrBaseImage * binBaseROI"
   ]
  },
  {
   "cell_type": "code",
   "execution_count": null,
   "metadata": {},
   "outputs": [],
   "source": [
    "maxROIVoxelVal = int(np.nanmax(roiMaskedBaseImage))\n",
    "minROIVoxelVal = int(np.nanmin(roiMaskedBaseImage))"
   ]
  },
  {
   "cell_type": "code",
   "execution_count": null,
   "metadata": {},
   "outputs": [],
   "source": [
    "arrNewBaseImage = arrBaseImage.copy()"
   ]
  },
  {
   "cell_type": "code",
   "execution_count": null,
   "metadata": {},
   "outputs": [],
   "source": [
    "arrRandomSampledImage = sitk.GetArrayFromImage(randomSampledImage)\n",
    "\n",
    "# Make ROI voxels 0 to multiple by the full negative control image\n",
    "inverseBinMask = np.where(arrBaseROI > 0, 0, 1)\n",
    "\n",
    "# Multiple random sampled image by 0s where the ROI is\n",
    "roiMaskedRndSamImage = inverseBinMask * arrRandomSampledImage\n",
    "\n",
    "# Then add \n"
   ]
  },
  {
   "cell_type": "code",
   "execution_count": null,
   "metadata": {},
   "outputs": [],
   "source": [
    "from readii.image_processing import *\n",
    "\n",
    "displayCTSegOverlay(roiMaskedRndSamImage, baseROI, 240, alpha = 0)"
   ]
  },
  {
   "cell_type": "code",
   "execution_count": null,
   "metadata": {},
   "outputs": [],
   "source": [
    "np.nonzero(arrBaseROI)"
   ]
  },
  {
   "cell_type": "code",
   "execution_count": null,
   "metadata": {},
   "outputs": [],
   "source": [
    "def negativeControlNonROIOnly(baseImage, roiMask, negativeControlType, randomSeed):\n",
    "    negativeControlName = negativeControlType + \"_full\"\n",
    "\n",
    "    # Get desired negative control of baseImage\n",
    "    ncBaseImage = applyNegativeControl(nc_type = negativeControlName,\n",
    "                                       baseImage = baseImage,\n",
    "                                       randomSeed = randomSeed)\n",
    "\n",
    "    # Convert images to arrays\n",
    "    arrBaseImage = sitk.GetArrayFromImage(baseImage)\n",
    "    arrROIMask = sitk.GetArrayFromImage(roiMask)\n",
    "    arrNCBaseImage = sitk.GetArrayFromImage(ncBaseImage)\n",
    "\n",
    "    # Get binary segmentation masks\n",
    "    # ROI is 1, background is 0\n",
    "    binROIMask = np.where(arrROIMask > 0, 1, 0)\n",
    "    # ROI is 0, background is 1\n",
    "    inverseBinROIMask = np.where(arrROIMask > 0, 0, 1)\n",
    "\n",
    "    arrNCNonROIImage = (arrNCBaseImage * inverseBinROIMask) + (arrBaseImage * binROIMask)\n",
    "\n",
    "    ncNonROIImage = sitk.GetImageFromArray(arrNCNonROIImage)\n",
    "\n",
    "    alignedNCNonROIImage = alignImages(baseImage, ncNonROIImage)\n",
    "\n",
    "    return alignedNCNonROIImage\n"
   ]
  },
  {
   "cell_type": "code",
   "execution_count": null,
   "metadata": {},
   "outputs": [],
   "source": [
    "ncROIImage = negativeControlROIOnly(baseImage, baseROI, negativeControlType = \"shuffled\", randomSeed = 10)\n",
    "displayImageSlice(ncROIImage, 120)"
   ]
  },
  {
   "cell_type": "code",
   "execution_count": null,
   "metadata": {},
   "outputs": [],
   "source": [
    "ncNonROIImage = negativeControlNonROIOnly(baseImage, baseROI, negativeControlType = \"randomized_sampled\", randomSeed = 10)\n",
    "displayImageSlice(ncNonROIImage, 120)"
   ]
  },
  {
   "cell_type": "code",
   "execution_count": null,
   "metadata": {},
   "outputs": [],
   "source": []
  },
  {
   "cell_type": "markdown",
   "metadata": {},
   "source": [
    "# Debugging shuffle ROI/non-ROI issue"
   ]
  },
  {
   "cell_type": "code",
   "execution_count": null,
   "metadata": {},
   "outputs": [],
   "source": [
    "ncBaseImage = makeShuffleImage(baseImage, 10)\n",
    "\n",
    "arrNCBaseImage = sitk.GetArrayFromImage(ncBaseImage)\n",
    "\n",
    "binROIMask = np.where(arrBaseROI > 0, 1, 0)\n",
    "inverseBinROIMask = np.where(arrBaseROI > 0, 0, 1)\n",
    "\n",
    "arrNCROImage = (arrNCBaseImage * binROIMask) + (arrBaseImage * inverseBinROIMask)"
   ]
  },
  {
   "cell_type": "code",
   "execution_count": null,
   "metadata": {},
   "outputs": [],
   "source": [
    "np.nonzero(binROIMask)"
   ]
  },
  {
   "cell_type": "code",
   "execution_count": null,
   "metadata": {},
   "outputs": [],
   "source": [
    "displayImageSlice(arrNCROImage, 240)"
   ]
  },
  {
   "cell_type": "code",
   "execution_count": null,
   "metadata": {},
   "outputs": [],
   "source": [
    "croppedCT, croppedROI = getCroppedImages(baseImage, baseROI)"
   ]
  },
  {
   "cell_type": "code",
   "execution_count": null,
   "metadata": {},
   "outputs": [],
   "source": [
    "ncCropImage = shuffleImage(croppedCT, 10)\n",
    "arrNCCropImage = sitk.GetArrayFromImage(ncCropImage)\n",
    "\n",
    "arrCropCT = sitk.GetArrayFromImage(croppedCT)\n",
    "arrCropROI = sitk.GetArrayFromImage(croppedROI)\n",
    "binROIMask = np.where(arrCropROI > 0, 1, 0)\n",
    "invBinROIMask = np.where(arrCropROI > 0, 0, 1)\n",
    "\n",
    "arrNCROICrop = (arrNCCropImage * binROIMask) + (arrCropCT * invBinROIMask)"
   ]
  },
  {
   "cell_type": "code",
   "execution_count": null,
   "metadata": {},
   "outputs": [],
   "source": [
    "np.nonzero(binROIMask)"
   ]
  },
  {
   "cell_type": "code",
   "execution_count": null,
   "metadata": {},
   "outputs": [],
   "source": [
    "displayImageSlice(arrNCROICrop, 0)"
   ]
  },
  {
   "cell_type": "code",
   "execution_count": null,
   "metadata": {},
   "outputs": [],
   "source": [
    "displayCTSegOverlay(arrCropCT, arrCropROI, 0)"
   ]
  },
  {
   "cell_type": "code",
   "execution_count": null,
   "metadata": {},
   "outputs": [],
   "source": [
    "print(np.sort(arrCropCT.flatten()))"
   ]
  },
  {
   "cell_type": "code",
   "execution_count": null,
   "metadata": {},
   "outputs": [],
   "source": [
    "print(np.sort(arrNCROICrop).flatten())"
   ]
  },
  {
   "cell_type": "code",
   "execution_count": null,
   "metadata": {},
   "outputs": [],
   "source": [
    "maROI = ma.array(arrBaseImage, mask = inverseBinROIMask)"
   ]
  },
  {
   "cell_type": "code",
   "execution_count": null,
   "metadata": {},
   "outputs": [],
   "source": [
    "maROI.mean()"
   ]
  },
  {
   "cell_type": "code",
   "execution_count": null,
   "metadata": {},
   "outputs": [],
   "source": [
    "len(maROI.compressed())"
   ]
  },
  {
   "cell_type": "code",
   "execution_count": null,
   "metadata": {},
   "outputs": [],
   "source": [
    "len(arrBaseImage.flatten())"
   ]
  },
  {
   "cell_type": "code",
   "execution_count": null,
   "metadata": {},
   "outputs": [],
   "source": [
    "flatArrImage = arrBaseImage.flatten()\n",
    "flatROIMask = arrBaseROI.flatten()"
   ]
  },
  {
   "cell_type": "code",
   "execution_count": null,
   "metadata": {},
   "outputs": [],
   "source": [
    "randNumGen = np.random.default_rng(seed=randomSeed)\n",
    "# randNumGen.shuffle(flatArrImage[flatROIMask])"
   ]
  },
  {
   "cell_type": "code",
   "execution_count": null,
   "metadata": {},
   "outputs": [],
   "source": [
    "x = [1, 2, 3, 4, 5, 6, 7, 8, 9]\n",
    "mask = np.array([0, 0, 1, 1, 1, 0, 0, 1, 0])\n",
    "\n",
    "maX = ma.MaskedArray(x, mask)\n",
    "\n",
    "randNumGen.shuffle(maX)"
   ]
  },
  {
   "cell_type": "code",
   "execution_count": null,
   "metadata": {},
   "outputs": [],
   "source": [
    "maX.data"
   ]
  },
  {
   "cell_type": "code",
   "execution_count": null,
   "metadata": {},
   "outputs": [],
   "source": [
    "flatROIMask[0:10]"
   ]
  },
  {
   "cell_type": "code",
   "execution_count": null,
   "metadata": {},
   "outputs": [],
   "source": [
    "flatArrImage[flatROIMask]"
   ]
  },
  {
   "cell_type": "code",
   "execution_count": null,
   "metadata": {},
   "outputs": [],
   "source": [
    "shuffled3DArrImage = np.reshape(flatArrImage, arrBaseImage.shape)"
   ]
  },
  {
   "cell_type": "code",
   "execution_count": null,
   "metadata": {},
   "outputs": [],
   "source": [
    "np.nonzero(flatROIMask)"
   ]
  },
  {
   "cell_type": "code",
   "execution_count": null,
   "metadata": {},
   "outputs": [],
   "source": [
    "print(arrBaseImage.flatten()[60676736])\n",
    "print(flatArrImage[60676736])"
   ]
  },
  {
   "cell_type": "code",
   "execution_count": null,
   "metadata": {},
   "outputs": [],
   "source": [
    "maskIndices = np.nonzero(binROIMask)\n",
    "flatRoiValues = arrBaseImage[maskIndices]"
   ]
  },
  {
   "cell_type": "code",
   "execution_count": null,
   "metadata": {},
   "outputs": [],
   "source": [
    "randNumGen.shuffle(flatRoiValues)"
   ]
  },
  {
   "cell_type": "code",
   "execution_count": null,
   "metadata": {},
   "outputs": [],
   "source": [
    "flatRoiValues[0]"
   ]
  },
  {
   "cell_type": "code",
   "execution_count": null,
   "metadata": {},
   "outputs": [],
   "source": [
    "flatRoiValues.flatten()"
   ]
  },
  {
   "cell_type": "code",
   "execution_count": null,
   "metadata": {},
   "outputs": [],
   "source": [
    "arrBaseImage[maskIndices][0]"
   ]
  },
  {
   "cell_type": "code",
   "execution_count": null,
   "metadata": {},
   "outputs": [],
   "source": [
    "arrShuffleROIImage = arrBaseImage.copy()\n",
    "arrShuffleROIImage[maskIndices] = flatRoiValues"
   ]
  },
  {
   "cell_type": "code",
   "execution_count": null,
   "metadata": {},
   "outputs": [],
   "source": [
    "displayImageSlice(arrShuffleROIImage, 240)"
   ]
  },
  {
   "cell_type": "code",
   "execution_count": null,
   "metadata": {},
   "outputs": [],
   "source": [
    "shuffleFlatROIValues = makeShuffleImage(arrBaseImage[maskIndices], randomSeed)"
   ]
  },
  {
   "cell_type": "code",
   "execution_count": 8,
   "metadata": {},
   "outputs": [],
   "source": [
    "testShuffleROI = negativeControlROIOnly(baseImage, baseROI, \"shuffled\", 10)\n",
    "testRandomROI = negativeControlROIOnly(baseImage, baseROI, \"randomized\", 10)\n",
    "testRandomSampledROI = negativeControlROIOnly(baseImage, baseROI, \"randomized_sampled\", 10)"
   ]
  },
  {
   "cell_type": "code",
   "execution_count": 9,
   "metadata": {},
   "outputs": [
    {
     "data": {
      "image/png": "[encoded data removed]",
      "text/plain": [
       "<Figure size 640x480 with 1 Axes>"
      ]
     },
     "metadata": {},
     "output_type": "display_data"
    }
   ],
   "source": [
    "displayImageSlice(testShuffleROI, 110)"
   ]
  },
  {
   "cell_type": "code",
   "execution_count": null,
   "metadata": {},
   "outputs": [],
   "source": [
    "displayImageSlice(testRandomROI, 240)"
   ]
  },
  {
   "cell_type": "code",
   "execution_count": 10,
   "metadata": {},
   "outputs": [],
   "source": [
    "testShuffleNonROI = negativeControlNonROIOnly(baseImage, baseROI, \"shuffled\", 10)"
   ]
  },
  {
   "cell_type": "code",
   "execution_count": 11,
   "metadata": {},
   "outputs": [],
   "source": [
    "testRandomNonROI = negativeControlNonROIOnly(baseImage, baseROI, \"randomized\", 10)"
   ]
  },
  {
   "cell_type": "code",
   "execution_count": 12,
   "metadata": {},
   "outputs": [],
   "source": [
    "testRandomSampleNonROI = negativeControlNonROIOnly(baseImage, baseROI, \"randomized_sampled\", 10)"
   ]
  },
  {
   "cell_type": "code",
   "execution_count": null,
   "metadata": {},
   "outputs": [],
   "source": [
    "displayImageSlice(testRandomSampleNonROI, 240)"
   ]
  },
  {
   "cell_type": "markdown",
   "metadata": {},
   "source": [
    "### Cropped results for test functions"
   ]
  },
  {
   "cell_type": "code",
   "execution_count": 6,
   "metadata": {},
   "outputs": [],
   "source": [
    "croppedCT, croppedROI = getCroppedImages(baseImage, baseROI)\n",
    "\n",
    "original_pixels = sitk.GetArrayFromImage(croppedCT)\n",
    "\n",
    "randomSeed = 10"
   ]
  },
  {
   "cell_type": "code",
   "execution_count": 4,
   "metadata": {},
   "outputs": [],
   "source": [
    "cropShuffleROI = negativeControlROIOnly(croppedCT, croppedROI, \"shuffled\", 10)\n",
    "cropRandomROI = negativeControlROIOnly(croppedCT, croppedROI, \"randomized\", 10)\n",
    "cropRandomSampledROI = negativeControlROIOnly(croppedCT, croppedROI, \"randomized_sampled\", 10)\n",
    "\n",
    "cropShuffleNonROI = negativeControlNonROIOnly(croppedCT, croppedROI, \"shuffled\", 10)\n",
    "cropRandomNonROI = negativeControlNonROIOnly(croppedCT, croppedROI, \"randomized\", 10)\n",
    "cropRandomSampledNonROI = negativeControlNonROIOnly(croppedCT, croppedROI, \"randomized_sampled\", 10)"
   ]
  },
  {
   "cell_type": "code",
   "execution_count": 7,
   "metadata": {},
   "outputs": [
    {
     "name": "stdout",
     "output_type": "stream",
     "text": [
      "ROI NC checks\n",
      "0,0,0: -968\n",
      "-1,-1,-1: -998\n",
      "7,18,11: -999\n",
      "Non-ROI NC checks\n",
      "0,0,0: -978\n",
      "-1,-1,-1: -990\n",
      "7,18,11: 1129\n"
     ]
    }
   ],
   "source": [
    "nc_type = \"shuffled\"\n",
    "\n",
    "cropNCROI = negativeControlROIOnly(croppedCT, croppedROI, nc_type, randomSeed)\n",
    "cropNCNonROI = negativeControlNonROIOnly(croppedCT, croppedROI, nc_type, randomSeed)\n",
    "\n",
    "ncROIPixels = sitk.GetArrayFromImage(cropNCROI)\n",
    "ncNonROIPixels = sitk.GetArrayFromImage(cropNCNonROI)\n",
    "\n",
    "print(\"ROI NC checks\")\n",
    "print(\"0,0,0:\", ncROIPixels[0,0,0])\n",
    "print(\"-1,-1,-1:\", ncROIPixels[-1,-1,-1])\n",
    "print(\"7,18,11:\", ncROIPixels[7,18,11])\n",
    "\n",
    "\n",
    "print(\"Non-ROI NC checks\")\n",
    "print(\"0,0,0:\", ncNonROIPixels[0,0,0])\n",
    "print(\"-1,-1,-1:\", ncNonROIPixels[-1,-1,-1])\n",
    "print(\"7,18,11:\", ncNonROIPixels[7,18,11])"
   ]
  },
  {
   "cell_type": "code",
   "execution_count": null,
   "metadata": {},
   "outputs": [],
   "source": [
    "original_pixels = sitk.GetArrayFromImage(croppedCT)\n",
    "shuffled_roi_pixels = sitk.GetArrayFromImage(cropShuffleROI)\n",
    "\n",
    "np.array_equal(original_pixels, shuffled_roi_pixels)"
   ]
  },
  {
   "cell_type": "code",
   "execution_count": null,
   "metadata": {},
   "outputs": [],
   "source": []
  }
 ],
 "metadata": {
  "kernelspec": {
   "display_name": "yarea",
   "language": "python",
   "name": "python3"
  },
  "language_info": {
   "codemirror_mode": {
    "name": "ipython",
    "version": 3
   },
   "file_extension": ".py",
   "mimetype": "text/x-python",
   "name": "python",
   "nbconvert_exporter": "python",
   "pygments_lexer": "ipython3",
   "version": "3.9.18"
  }
 },
 "nbformat": 4,
 "nbformat_minor": 2
}
