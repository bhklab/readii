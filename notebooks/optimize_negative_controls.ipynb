{
 "cells": [
  {
   "cell_type": "code",
   "execution_count": 1,
   "metadata": {},
   "outputs": [],
   "source": [
    "from imgtools.io import read_dicom_series\n",
    "from readii.loaders import loadSegmentation\n",
    "from readii.image_processing import *"
   ]
  },
  {
   "cell_type": "code",
   "execution_count": 5,
   "metadata": {},
   "outputs": [],
   "source": [
    "baseImage = read_dicom_series(\"../tests/NSCLC_Radiogenomics/R01-001/09-06-1990-NA-CT_CHEST_ABD_PELVIS_WITH_CON-98785/3.000000-THORAX_1.0_B45f-95741\")\n",
    "\n",
    "segImages = loadSegmentation(\"../tests/NSCLC_Radiogenomics/R01-001/09-06-1990-NA-CT_CHEST_ABD_PELVIS_WITH_CON-98785/1000.000000-3D_Slicer_segmentation_result-67652/1-1.dcm\",\n",
    "                            modality = 'SEG')\n",
    "roiImage = segImages['Heart']\n",
    "flattenedROIImage = flattenImage(roiImage)\n",
    "baseROI = alignImages(baseImage, flattenedROIImage)\n",
    "\n",
    "roiLabel = getROIVoxelLabel(baseROI)\n",
    "\n",
    "randomSeed = 10"
   ]
  },
  {
   "cell_type": "code",
   "execution_count": 21,
   "metadata": {},
   "outputs": [],
   "source": [
    "# convert CT to array\n",
    "arrBaseImage = sitk.GetArrayFromImage(baseImage)\n",
    "\n",
    "# convert baseROI to array\n",
    "arrBaseROI = sitk.GetArrayFromImage(baseROI)\n",
    "\n",
    "# make binary mask out of ROI (NaN for background, 1 for ROI)\n",
    "binBaseROI = np.where(arrBaseROI > 0, 1, np.NaN)\n",
    "\n",
    "# multiply the mask by the CT to get just ROI voxels\n",
    "roiMaskedBaseImage = arrBaseImage * binBaseROI"
   ]
  },
  {
   "cell_type": "code",
   "execution_count": 28,
   "metadata": {},
   "outputs": [],
   "source": [
    "maxROIVoxelVal = int(np.nanmax(roiMaskedBaseImage))\n",
    "minROIVoxelVal = int(np.nanmin(roiMaskedBaseImage))"
   ]
  },
  {
   "cell_type": "code",
   "execution_count": 30,
   "metadata": {},
   "outputs": [],
   "source": [
    "arrNewBaseImage = arrBaseImage.copy()"
   ]
  },
  {
   "cell_type": "code",
   "execution_count": null,
   "metadata": {},
   "outputs": [],
   "source": [
    "# get count of non NaN values\n",
    "# generate that many random values using max and min\n",
    "# somehow get them into the correct shape of the ROI?\n",
    "\n",
    "# or get size of ROI bounds\n",
    "# make random array that size and multiply"
   ]
  }
 ],
 "metadata": {
  "kernelspec": {
   "display_name": "yarea",
   "language": "python",
   "name": "python3"
  },
  "language_info": {
   "codemirror_mode": {
    "name": "ipython",
    "version": 3
   },
   "file_extension": ".py",
   "mimetype": "text/x-python",
   "name": "python",
   "nbconvert_exporter": "python",
   "pygments_lexer": "ipython3",
   "version": "3.9.18"
  }
 },
 "nbformat": 4,
 "nbformat_minor": 2
}
