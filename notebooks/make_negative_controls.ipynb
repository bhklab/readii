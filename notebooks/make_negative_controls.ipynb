{
 "cells": [
  {
   "cell_type": "code",
   "execution_count": 32,
   "id": "2249114f",
   "metadata": {},
   "outputs": [],
   "source": [
    "from readii.negative_controls_refactor.negative_controls import (\n",
    "    RandomizedControl,\n",
    "    SampledControl,\n",
    "    ShuffledControl\n",
    ")\n",
    "from readii.negative_controls_refactor.regions import (\n",
    "    FullRegion,\n",
    "    NonROIRegion,\n",
    "    ROIRegion\n",
    ")\n",
    "\n",
    "from readii.negative_controls_refactor.manager import NegativeControlManager\n",
    "from pathlib import Path\n",
    "import pandas as pd\n",
    "import SimpleITK as sitk\n",
    "from rich import print as rprint\n",
    "import numpy as np\n",
    "from collections import OrderedDict\n",
    "from radiomics import featureextractor, setVerbosity\n",
    "setVerbosity(50)"
   ]
  },
  {
   "cell_type": "code",
   "execution_count": 2,
   "id": "d023a20c",
   "metadata": {},
   "outputs": [],
   "source": [
    "# filepath setup\n",
    "DATA_SOURCE = \"TCIA\"\n",
    "DATASET_NAME = \"NSCLC-Radiomics\"\n",
    "DATA_DIR = Path(\"../data/procdata\", f\"{DATA_SOURCE}_{DATASET_NAME}\")\n",
    "MIT_INDEX_DIR = \"mit_\" + DATASET_NAME\n",
    "pyrad_output_path = DATA_DIR / \"pyradiomics_features\"\n",
    "\n",
    "RANDOM_SEED = 10"
   ]
  },
  {
   "cell_type": "code",
   "execution_count": 3,
   "id": "e4e4dad1",
   "metadata": {},
   "outputs": [],
   "source": [
    "def flatten_image(image: sitk.Image) -> sitk.Image:\n",
    "    \"\"\"Remove axes of image with size one. (ex. shape is [1, 100, 256, 256])\n",
    "\n",
    "    Parameters\n",
    "    ----------\n",
    "    image : sitk.Image\n",
    "        Image to remove axes with size one.\n",
    "\n",
    "    Returns\n",
    "    -------\n",
    "    sitk.Image\n",
    "        image with axes of length one removed.\n",
    "    \"\"\"\n",
    "    imageArr = sitk.GetArrayFromImage(image)\n",
    "\n",
    "    imageArr = np.squeeze(imageArr)\n",
    "\n",
    "    return sitk.GetImageFromArray(imageArr)"
   ]
  },
  {
   "cell_type": "code",
   "execution_count": 4,
   "id": "0d75f355",
   "metadata": {},
   "outputs": [],
   "source": [
    "manager = NegativeControlManager.from_strings(\n",
    "    negative_control_types=[\"randomized\", \"shuffled\", \"sampled\"],\n",
    "    region_types=[\"roi\", \"non_roi\", \"full\"],\n",
    "    random_seed=RANDOM_SEED,\n",
    ")"
   ]
  },
  {
   "cell_type": "code",
   "execution_count": 5,
   "id": "66cc357d",
   "metadata": {},
   "outputs": [],
   "source": [
    "params = \"../src/readii/data/shape_only_pyradiomics.yaml\"\n",
    "extractor = featureextractor.RadiomicsFeatureExtractor(params)"
   ]
  },
  {
   "cell_type": "code",
   "execution_count": 22,
   "id": "6a3745d1",
   "metadata": {},
   "outputs": [],
   "source": [
    "pyrad_dataset_df = pd.read_csv(DATA_DIR / f\"pyradiomics_features/pyrad_{DATASET_NAME}_index.csv\")\n",
    "\n",
    "sample_row = pyrad_dataset_df.loc[0]\n",
    "\n",
    "sample_image = flatten_image(sitk.ReadImage(sample_row.Image))\n",
    "sample_mask = flatten_image(sitk.ReadImage(sample_row.Mask))\n",
    "\n",
    "sample_feature_dir = pyrad_output_path / f\"samples/{sample_row.ID}\"\n",
    "sample_feature_dir.mkdir(parents=True, exist_ok=True)"
   ]
  },
  {
   "cell_type": "code",
   "execution_count": null,
   "id": "f0a0c433",
   "metadata": {},
   "outputs": [
    {
     "data": {
      "text/html": [
       "<pre style=\"white-space:pre;overflow-x:auto;line-height:normal;font-family:Menlo,'DejaVu Sans Mono',consolas,'Courier New',monospace\">Negative control image generated: <span style=\"font-weight: bold\">(</span><span style=\"color: #008080; text-decoration-color: #008080; font-weight: bold\">500</span>, <span style=\"color: #008080; text-decoration-color: #008080; font-weight: bold\">500</span>, <span style=\"color: #008080; text-decoration-color: #008080; font-weight: bold\">134</span><span style=\"font-weight: bold\">)</span> using randomized and roi\n",
       "</pre>\n"
      ],
      "text/plain": [
       "Negative control image generated: \u001b[1m(\u001b[0m\u001b[1;36m500\u001b[0m, \u001b[1;36m500\u001b[0m, \u001b[1;36m134\u001b[0m\u001b[1m)\u001b[0m using randomized and roi\n"
      ]
     },
     "metadata": {},
     "output_type": "display_data"
    },
    {
     "ename": "ValueError",
     "evalue": "Shape of passed values is (57, 1), indices imply (57, 57)",
     "output_type": "error",
     "traceback": [
      "\u001b[31m---------------------------------------------------------------------------\u001b[39m",
      "\u001b[31mValueError\u001b[39m                                Traceback (most recent call last)",
      "\u001b[36mCell\u001b[39m\u001b[36m \u001b[39m\u001b[32mIn[13]\u001b[39m\u001b[32m, line 13\u001b[39m\n\u001b[32m     11\u001b[39m sample_data = [sample_row.ID[\u001b[32m0\u001b[39m], sample_row.Image[\u001b[32m0\u001b[39m], sample_row.Mask[\u001b[32m0\u001b[39m]] + sample_feature_vector.to_list()\n\u001b[32m     12\u001b[39m col_names = pyrad_dataset_df.columns.to_list() + sample_feature_vector.index.to_list()\n\u001b[32m---> \u001b[39m\u001b[32m13\u001b[39m sample_data_df = \u001b[43mpd\u001b[49m\u001b[43m.\u001b[49m\u001b[43mDataFrame\u001b[49m\u001b[43m(\u001b[49m\u001b[43mdata\u001b[49m\u001b[43m=\u001b[49m\u001b[43msample_data\u001b[49m\u001b[43m,\u001b[49m\u001b[43m \u001b[49m\u001b[43mcolumns\u001b[49m\u001b[43m=\u001b[49m\u001b[43mcol_names\u001b[49m\u001b[43m)\u001b[49m\n\u001b[32m     14\u001b[39m \u001b[38;5;28mprint\u001b[39m(sample_data_df.head())\n",
      "\u001b[36mFile \u001b[39m\u001b[32m~/bhklab/radiomics/Projects/readii/.pixi/envs/dev/lib/python3.12/site-packages/pandas/core/frame.py:867\u001b[39m, in \u001b[36mDataFrame.__init__\u001b[39m\u001b[34m(self, data, index, columns, dtype, copy)\u001b[39m\n\u001b[32m    859\u001b[39m         mgr = arrays_to_mgr(\n\u001b[32m    860\u001b[39m             arrays,\n\u001b[32m    861\u001b[39m             columns,\n\u001b[32m   (...)\u001b[39m\u001b[32m    864\u001b[39m             typ=manager,\n\u001b[32m    865\u001b[39m         )\n\u001b[32m    866\u001b[39m     \u001b[38;5;28;01melse\u001b[39;00m:\n\u001b[32m--> \u001b[39m\u001b[32m867\u001b[39m         mgr = \u001b[43mndarray_to_mgr\u001b[49m\u001b[43m(\u001b[49m\n\u001b[32m    868\u001b[39m \u001b[43m            \u001b[49m\u001b[43mdata\u001b[49m\u001b[43m,\u001b[49m\n\u001b[32m    869\u001b[39m \u001b[43m            \u001b[49m\u001b[43mindex\u001b[49m\u001b[43m,\u001b[49m\n\u001b[32m    870\u001b[39m \u001b[43m            \u001b[49m\u001b[43mcolumns\u001b[49m\u001b[43m,\u001b[49m\n\u001b[32m    871\u001b[39m \u001b[43m            \u001b[49m\u001b[43mdtype\u001b[49m\u001b[43m=\u001b[49m\u001b[43mdtype\u001b[49m\u001b[43m,\u001b[49m\n\u001b[32m    872\u001b[39m \u001b[43m            \u001b[49m\u001b[43mcopy\u001b[49m\u001b[43m=\u001b[49m\u001b[43mcopy\u001b[49m\u001b[43m,\u001b[49m\n\u001b[32m    873\u001b[39m \u001b[43m            \u001b[49m\u001b[43mtyp\u001b[49m\u001b[43m=\u001b[49m\u001b[43mmanager\u001b[49m\u001b[43m,\u001b[49m\n\u001b[32m    874\u001b[39m \u001b[43m        \u001b[49m\u001b[43m)\u001b[49m\n\u001b[32m    875\u001b[39m \u001b[38;5;28;01melse\u001b[39;00m:\n\u001b[32m    876\u001b[39m     mgr = dict_to_mgr(\n\u001b[32m    877\u001b[39m         {},\n\u001b[32m    878\u001b[39m         index,\n\u001b[32m   (...)\u001b[39m\u001b[32m    881\u001b[39m         typ=manager,\n\u001b[32m    882\u001b[39m     )\n",
      "\u001b[36mFile \u001b[39m\u001b[32m~/bhklab/radiomics/Projects/readii/.pixi/envs/dev/lib/python3.12/site-packages/pandas/core/internals/construction.py:336\u001b[39m, in \u001b[36mndarray_to_mgr\u001b[39m\u001b[34m(values, index, columns, dtype, copy, typ)\u001b[39m\n\u001b[32m    331\u001b[39m \u001b[38;5;66;03m# _prep_ndarraylike ensures that values.ndim == 2 at this point\u001b[39;00m\n\u001b[32m    332\u001b[39m index, columns = _get_axes(\n\u001b[32m    333\u001b[39m     values.shape[\u001b[32m0\u001b[39m], values.shape[\u001b[32m1\u001b[39m], index=index, columns=columns\n\u001b[32m    334\u001b[39m )\n\u001b[32m--> \u001b[39m\u001b[32m336\u001b[39m \u001b[43m_check_values_indices_shape_match\u001b[49m\u001b[43m(\u001b[49m\u001b[43mvalues\u001b[49m\u001b[43m,\u001b[49m\u001b[43m \u001b[49m\u001b[43mindex\u001b[49m\u001b[43m,\u001b[49m\u001b[43m \u001b[49m\u001b[43mcolumns\u001b[49m\u001b[43m)\u001b[49m\n\u001b[32m    338\u001b[39m \u001b[38;5;28;01mif\u001b[39;00m typ == \u001b[33m\"\u001b[39m\u001b[33marray\u001b[39m\u001b[33m\"\u001b[39m:\n\u001b[32m    339\u001b[39m     \u001b[38;5;28;01mif\u001b[39;00m \u001b[38;5;28missubclass\u001b[39m(values.dtype.type, \u001b[38;5;28mstr\u001b[39m):\n",
      "\u001b[36mFile \u001b[39m\u001b[32m~/bhklab/radiomics/Projects/readii/.pixi/envs/dev/lib/python3.12/site-packages/pandas/core/internals/construction.py:420\u001b[39m, in \u001b[36m_check_values_indices_shape_match\u001b[39m\u001b[34m(values, index, columns)\u001b[39m\n\u001b[32m    418\u001b[39m passed = values.shape\n\u001b[32m    419\u001b[39m implied = (\u001b[38;5;28mlen\u001b[39m(index), \u001b[38;5;28mlen\u001b[39m(columns))\n\u001b[32m--> \u001b[39m\u001b[32m420\u001b[39m \u001b[38;5;28;01mraise\u001b[39;00m \u001b[38;5;167;01mValueError\u001b[39;00m(\u001b[33mf\u001b[39m\u001b[33m\"\u001b[39m\u001b[33mShape of passed values is \u001b[39m\u001b[38;5;132;01m{\u001b[39;00mpassed\u001b[38;5;132;01m}\u001b[39;00m\u001b[33m, indices imply \u001b[39m\u001b[38;5;132;01m{\u001b[39;00mimplied\u001b[38;5;132;01m}\u001b[39;00m\u001b[33m\"\u001b[39m)\n",
      "\u001b[31mValueError\u001b[39m: Shape of passed values is (57, 1), indices imply (57, 57)"
     ]
    }
   ],
   "source": [
    "for neg_image, control_strategy_name, region_strategy_name in manager.apply(sample_image, sample_mask):\n",
    "    rprint(\n",
    "        f\"Negative control image generated: {neg_image.GetSize()} using {control_strategy_name} and {region_strategy_name}\"\n",
    "    )\n",
    "    \n",
    "    try:\n",
    "        sample_feature_vector = pd.Series(extractor.execute(neg_image, sample_mask))\n",
    "    except Exception as e:\n",
    "        print(\"Feature extraction failed: \", e)\n",
    "    \n",
    "    result_dict = sample_row.to_dict(into=OrderedDict)\n",
    "    result_dict.update(sample_feature_vector)\n",
    "    \n",
    "    result_data_df = pd.DataFrame(data=result_dict)\n",
    "    print(result_data_df.head())\n"
   ]
  },
  {
   "cell_type": "code",
   "execution_count": 14,
   "id": "5daec665",
   "metadata": {},
   "outputs": [],
   "source": [
    "featurevector = extractor.execute(neg_image, sample_mask)"
   ]
  },
  {
   "cell_type": "code",
   "execution_count": null,
   "id": "6e3909d4",
   "metadata": {},
   "outputs": [],
   "source": []
  },
  {
   "cell_type": "code",
   "execution_count": null,
   "id": "0a6697de",
   "metadata": {},
   "outputs": [],
   "source": []
  },
  {
   "cell_type": "code",
   "execution_count": 41,
   "id": "b51873df",
   "metadata": {},
   "outputs": [
    {
     "data": {
      "text/plain": [
       "OrderedDict([('ID', 'NSCLC-Radiomics_001'),\n",
       "             ('Image',\n",
       "              '../data/procdata/TCIA_NSCLC-Radiomics/mit_NSCLC-Radiomics/NSCLC-Radiomics_001/CT_Series-82046/CT.nii.gz'),\n",
       "             ('Mask',\n",
       "              '../data/procdata/TCIA_NSCLC-Radiomics/mit_NSCLC-Radiomics/NSCLC-Radiomics_001/RTSTRUCT_Series-78236/GTV.nii.gz'),\n",
       "             ('diagnostics_Versions_PyRadiomics', 'v3.1.4'),\n",
       "             ('diagnostics_Versions_Numpy', '1.26.4'),\n",
       "             ('diagnostics_Versions_SimpleITK', '2.4.1'),\n",
       "             ('diagnostics_Versions_PyWavelet', '1.8.0'),\n",
       "             ('diagnostics_Versions_Python', '3.12.10'),\n",
       "             ('diagnostics_Configuration_Settings',\n",
       "              {'minimumROIDimensions': 2,\n",
       "               'minimumROISize': None,\n",
       "               'normalize': False,\n",
       "               'normalizeScale': 1,\n",
       "               'removeOutliers': None,\n",
       "               'resampledPixelSpacing': [0.0, 0.0, 0.0],\n",
       "               'interpolator': 'sitkBSpline',\n",
       "               'preCrop': False,\n",
       "               'padDistance': 5,\n",
       "               'distances': [1],\n",
       "               'force2D': False,\n",
       "               'force2Ddimension': 0,\n",
       "               'resegmentRange': None,\n",
       "               'label': 1,\n",
       "               'additionalInfo': True,\n",
       "               'binWidth': 25}),\n",
       "             ('diagnostics_Configuration_EnabledImageTypes', {'Original': {}}),\n",
       "             ('diagnostics_Image-original_Hash',\n",
       "              '1cc76ef6da3c6403c0a9ba1059be2c1ba1cad4ba'),\n",
       "             ('diagnostics_Image-original_Dimensionality', '3D'),\n",
       "             ('diagnostics_Image-original_Spacing', (1.0, 1.0, 1.0)),\n",
       "             ('diagnostics_Image-original_Size', (500, 500, 134)),\n",
       "             ('diagnostics_Image-original_Mean', -741.3029500376829),\n",
       "             ('diagnostics_Image-original_Minimum', -1024.0),\n",
       "             ('diagnostics_Image-original_Maximum', 3027.100830078125),\n",
       "             ('diagnostics_Mask-original_Hash',\n",
       "              'b28158aad2a00d49f9057cb3e600de23e8f0bd6c'),\n",
       "             ('diagnostics_Mask-original_Spacing', (1.0, 1.0, 1.0)),\n",
       "             ('diagnostics_Mask-original_Size', (500, 500, 134)),\n",
       "             ('diagnostics_Mask-original_BoundingBox',\n",
       "              (284, 221, 65, 94, 87, 21)),\n",
       "             ('diagnostics_Mask-original_VoxelNum', 51176),\n",
       "             ('diagnostics_Mask-original_VolumeNum', 1),\n",
       "             ('diagnostics_Mask-original_CenterOfMassIndex',\n",
       "              (331.8604033140535, 259.12982648116304, 74.89823354697515)),\n",
       "             ('diagnostics_Mask-original_CenterOfMass',\n",
       "              (331.8604033140535, 259.12982648116304, 74.89823354697515)),\n",
       "             ('diagnostics_Image-interpolated_Spacing', (1.0, 1.0, 1.0)),\n",
       "             ('diagnostics_Image-interpolated_Size', (104, 97, 31)),\n",
       "             ('diagnostics_Image-interpolated_Mean', -418.4871273569395),\n",
       "             ('diagnostics_Image-interpolated_Minimum', -1018.7823486328125),\n",
       "             ('diagnostics_Image-interpolated_Maximum', 1549.260498046875),\n",
       "             ('diagnostics_Mask-interpolated_Spacing', (1.0, 1.0, 1.0)),\n",
       "             ('diagnostics_Mask-interpolated_Size', (104, 97, 31)),\n",
       "             ('diagnostics_Mask-interpolated_BoundingBox',\n",
       "              (5, 5, 5, 94, 87, 21)),\n",
       "             ('diagnostics_Mask-interpolated_VoxelNum', 51176),\n",
       "             ('diagnostics_Mask-interpolated_VolumeNum', 1),\n",
       "             ('diagnostics_Mask-interpolated_CenterOfMassIndex',\n",
       "              (52.860403314053464, 43.12982648116304, 14.898233546975145)),\n",
       "             ('diagnostics_Mask-interpolated_CenterOfMass',\n",
       "              (331.8604033140535, 259.12982648116304, 74.89823354697515)),\n",
       "             ('diagnostics_Mask-interpolated_Mean', -0.27823589182429265),\n",
       "             ('diagnostics_Mask-interpolated_Minimum', -1014.0),\n",
       "             ('diagnostics_Mask-interpolated_Maximum', 1022.0),\n",
       "             ('original_shape_VoxelVolume', 51176.0),\n",
       "             ('original_shape_MeshVolume', array(51084.20833333)),\n",
       "             ('original_shape_SurfaceArea', array(15126.05040527)),\n",
       "             ('original_shape_SurfaceVolumeRatio', array(0.29610032)),\n",
       "             ('original_shape_Compactness1', 0.01549256818119602),\n",
       "             ('original_shape_Compactness2', array(0.08528037)),\n",
       "             ('original_shape_Sphericity', array(0.44016586)),\n",
       "             ('original_shape_SphericalDisproportion', array(2.27187086)),\n",
       "             ('original_shape_Maximum3DDiameter', array(94.89467846)),\n",
       "             ('original_shape_Maximum2DDiameterSlice', array(93.34345183)),\n",
       "             ('original_shape_Maximum2DDiameterColumn', array(94.02127419)),\n",
       "             ('original_shape_Maximum2DDiameterRow', array(81.09870529)),\n",
       "             ('original_shape_MajorAxisLength', 83.68842470204669),\n",
       "             ('original_shape_MinorAxisLength', 58.38400248304136),\n",
       "             ('original_shape_LeastAxisLength', 15.990241088963478),\n",
       "             ('original_shape_Elongation', 0.6976353383506037),\n",
       "             ('original_shape_Flatness', 0.19106873078198136)])"
      ]
     },
     "execution_count": 41,
     "metadata": {},
     "output_type": "execute_result"
    }
   ],
   "source": [
    "sample_dict"
   ]
  },
  {
   "cell_type": "code",
   "execution_count": null,
   "id": "4b7c96a3",
   "metadata": {},
   "outputs": [],
   "source": []
  }
 ],
 "metadata": {
  "kernelspec": {
   "display_name": "dev",
   "language": "python",
   "name": "python3"
  },
  "language_info": {
   "codemirror_mode": {
    "name": "ipython",
    "version": 3
   },
   "file_extension": ".py",
   "mimetype": "text/x-python",
   "name": "python",
   "nbconvert_exporter": "python",
   "pygments_lexer": "ipython3",
   "version": "3.12.8"
  }
 },
 "nbformat": 4,
 "nbformat_minor": 5
}
