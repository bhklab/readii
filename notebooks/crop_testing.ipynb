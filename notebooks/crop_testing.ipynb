{
 "cells": [
  {
   "cell_type": "code",
   "execution_count": 1,
   "metadata": {},
   "outputs": [],
   "source": [
    "import SimpleITK as sitk\n",
    "\n",
    "import sys; sys.path.append(\"../src/readii\")\n",
    "from process.images.crop import find_bounding_box, find_centroid, crop_to_bounding_box, crop_to_maxdim_cube, crop_to_centroid, crop_with_pyradiomics\n",
    "from image_processing import displayImageSlice\n",
    "from process.images.utils.bounding_box import Coordinate, Centroid, Size3D, Point3D"
   ]
  },
  {
   "cell_type": "code",
   "execution_count": 2,
   "metadata": {},
   "outputs": [],
   "source": [
    "ct_path = \"/Users/katyscott/Documents/READII-2-ROQC/readii-fmcib/archive/temp_complete_output/procdata/RADCURE/images/mit_outputs/0_RADCURE-0020/CT/CT.nii.gz\"\n",
    "mask_path = \"/Users/katyscott/Documents/READII-2-ROQC/readii-fmcib/archive/temp_complete_output/procdata/RADCURE/images/mit_outputs/0_RADCURE-0020/RTSTRUCT_CT/GTV.nii.gz\"\n",
    "\n",
    "image = sitk.ReadImage(ct_path)\n",
    "mask = sitk.ReadImage(mask_path)"
   ]
  },
  {
   "cell_type": "code",
   "execution_count": 3,
   "metadata": {},
   "outputs": [],
   "source": [
    "# Convert the mask to a uint8 image\n",
    "mask_uint = sitk.Cast(mask, sitk.sitkUInt8)\n",
    "stats = sitk.LabelShapeStatisticsImageFilter()\n",
    "stats.Execute(mask_uint)\n",
    "# Get the centroid coordinates as a physical point in the mask\n",
    "centroid_coords = stats.GetCentroid(1)\n",
    "# Convert the physical point to an index in the mask array\n",
    "centroid_x, centroid_y, centroid_z = mask.TransformPhysicalPointToIndex(centroid_coords)"
   ]
  },
  {
   "cell_type": "code",
   "execution_count": 4,
   "metadata": {},
   "outputs": [
    {
     "ename": "AttributeError",
     "evalue": "type object 'super' has no attribute '__sub__'",
     "output_type": "error",
     "traceback": [
      "\u001b[0;31m---------------------------------------------------------------------------\u001b[0m",
      "\u001b[0;31mAttributeError\u001b[0m                            Traceback (most recent call last)",
      "Cell \u001b[0;32mIn[4], line 4\u001b[0m\n\u001b[1;32m      1\u001b[0m centroid \u001b[38;5;241m=\u001b[39m Centroid(centroid_x, centroid_y, centroid_z)\n\u001b[1;32m      2\u001b[0m crop_dimensions \u001b[38;5;241m=\u001b[39m Size3D(\u001b[38;5;241m50\u001b[39m,\u001b[38;5;241m50\u001b[39m,\u001b[38;5;241m50\u001b[39m)\n\u001b[0;32m----> 4\u001b[0m \u001b[43mcentroid\u001b[49m\u001b[43m \u001b[49m\u001b[38;5;241;43m-\u001b[39;49m\u001b[43m \u001b[49m\u001b[43mcrop_dimensions\u001b[49m \n",
      "File \u001b[0;32m~/Documents/READII-2-ROQC/readii/notebooks/../src/readii/process/images/utils/bounding_box.py:70\u001b[0m, in \u001b[0;36mCentroid.__sub__\u001b[0;34m(self, other)\u001b[0m\n\u001b[1;32m     68\u001b[0m \u001b[38;5;28;01mdef\u001b[39;00m \u001b[38;5;21m__sub__\u001b[39m(\u001b[38;5;28mself\u001b[39m, other: Size3D) \u001b[38;5;241m-\u001b[39m\u001b[38;5;241m>\u001b[39m Coordinate:\n\u001b[1;32m     69\u001b[0m \u001b[38;5;250m    \u001b[39m\u001b[38;5;124;03m\"\"\"Subtract a size from a coordinate to get a second coordinate.\"\"\"\u001b[39;00m\n\u001b[0;32m---> 70\u001b[0m     \u001b[38;5;28;01mreturn\u001b[39;00m \u001b[38;5;28;43msuper\u001b[39;49m\u001b[38;5;241;43m.\u001b[39;49m\u001b[38;5;21;43m__sub__\u001b[39;49m(other)\n",
      "\u001b[0;31mAttributeError\u001b[0m: type object 'super' has no attribute '__sub__'"
     ]
    }
   ],
   "source": [
    "centroid = Centroid(centroid_x, centroid_y, centroid_z)\n",
    "crop_dimensions = Size3D(50,50,50)\n",
    "\n",
    "centroid - crop_dimensions "
   ]
  },
  {
   "cell_type": "code",
   "execution_count": 9,
   "metadata": {},
   "outputs": [
    {
     "data": {
      "text/plain": [
       "Coordinate(x=299, y=258, z=111)"
      ]
     },
     "execution_count": 9,
     "metadata": {},
     "output_type": "execute_result"
    }
   ],
   "source": [
    "centroid + crop_dimensions"
   ]
  },
  {
   "cell_type": "code",
   "execution_count": 3,
   "metadata": {},
   "outputs": [
    {
     "ename": "TypeError",
     "evalue": "Centroid.__init__() missing 2 required positional arguments: 'y' and 'z'",
     "output_type": "error",
     "traceback": [
      "\u001b[0;31m---------------------------------------------------------------------------\u001b[0m",
      "\u001b[0;31mTypeError\u001b[0m                                 Traceback (most recent call last)",
      "Cell \u001b[0;32mIn[3], line 12\u001b[0m\n\u001b[1;32m      9\u001b[0m     \u001b[38;5;66;03m# print(cropped_image.GetSize())\u001b[39;00m\n\u001b[1;32m     11\u001b[0m \u001b[38;5;28;01mcase\u001b[39;00m \u001b[38;5;124m\"\u001b[39m\u001b[38;5;124mcentroid\u001b[39m\u001b[38;5;124m\"\u001b[39m:\n\u001b[0;32m---> 12\u001b[0m     centroid \u001b[38;5;241m=\u001b[39m \u001b[43mfind_centroid\u001b[49m\u001b[43m(\u001b[49m\u001b[43mmask\u001b[49m\u001b[43m)\u001b[49m\n\u001b[1;32m     13\u001b[0m     \u001b[38;5;66;03m# cropped_image = crop_to_centroid(image, centroid, input_size)\u001b[39;00m\n\u001b[1;32m     14\u001b[0m     \u001b[38;5;28mprint\u001b[39m(centroid)\n",
      "File \u001b[0;32m~/Documents/READII-2-ROQC/readii/notebooks/../src/readii/process/images/crop.py:194\u001b[0m, in \u001b[0;36mfind_centroid\u001b[0;34m(mask)\u001b[0m\n\u001b[1;32m    192\u001b[0m centroid_coords \u001b[38;5;241m=\u001b[39m stats\u001b[38;5;241m.\u001b[39mGetCentroid(\u001b[38;5;241m1\u001b[39m)\n\u001b[1;32m    193\u001b[0m \u001b[38;5;66;03m# Convert the physical point to an index in the mask array\u001b[39;00m\n\u001b[0;32m--> 194\u001b[0m centroid \u001b[38;5;241m=\u001b[39m \u001b[43mCentroid\u001b[49m\u001b[43m(\u001b[49m\u001b[43mmask\u001b[49m\u001b[38;5;241;43m.\u001b[39;49m\u001b[43mTransformPhysicalPointToIndex\u001b[49m\u001b[43m(\u001b[49m\u001b[43mcentroid_coords\u001b[49m\u001b[43m)\u001b[49m\u001b[43m)\u001b[49m \n\u001b[1;32m    196\u001b[0m \u001b[38;5;28;01mreturn\u001b[39;00m centroid\n",
      "\u001b[0;31mTypeError\u001b[0m: Centroid.__init__() missing 2 required positional arguments: 'y' and 'z'"
     ]
    }
   ],
   "source": [
    "crop_method = \"centroid\"\n",
    "input_size = (50,50,50)\n",
    "\n",
    "match crop_method:\n",
    "    case \"bounding_box\":\n",
    "        bbox_coords = find_bounding_box(mask)\n",
    "        # cropped_image = crop_to_bounding_box(image, bbox_coords, input_size)\n",
    "        print(bbox_coords)\n",
    "        # print(cropped_image.GetSize())\n",
    "    \n",
    "    case \"centroid\":\n",
    "        centroid = find_centroid(mask)\n",
    "        # cropped_image = crop_to_centroid(image, centroid, input_size)\n",
    "        print(centroid)\n",
    "        # print(cropped_image.GetSize())\n",
    "    \n",
    "    case \"cube\":\n",
    "        bbox_coords = find_bounding_box(mask)\n",
    "        cropped_image = crop_to_maxdim_cube(image, bbox_coords, input_size)\n",
    "\n",
    "        print(bbox_coords)\n",
    "        print(cropped_image.GetSize())"
   ]
  },
  {
   "cell_type": "code",
   "execution_count": 10,
   "metadata": {},
   "outputs": [
    {
     "data": {
      "image/png": "[encoded data removed]",
      "text/plain": [
       "<Figure size 640x480 with 1 Axes>"
      ]
     },
     "metadata": {},
     "output_type": "display_data"
    }
   ],
   "source": [
    "displayImageSlice(cropped_image, 25)"
   ]
  },
  {
   "cell_type": "code",
   "execution_count": 8,
   "metadata": {},
   "outputs": [],
   "source": [
    "cropped_image, cropped_mask = crop_with_pyradiomics(image, mask, 1)"
   ]
  },
  {
   "cell_type": "code",
   "execution_count": 10,
   "metadata": {},
   "outputs": [
    {
     "data": {
      "text/plain": [
       "(22, 28, 14)"
      ]
     },
     "execution_count": 10,
     "metadata": {},
     "output_type": "execute_result"
    }
   ],
   "source": [
    "cropped_mask.GetSize()"
   ]
  },
  {
   "cell_type": "code",
   "execution_count": null,
   "metadata": {},
   "outputs": [],
   "source": []
  }
 ],
 "metadata": {
  "kernelspec": {
   "display_name": "dev",
   "language": "python",
   "name": "python3"
  },
  "language_info": {
   "codemirror_mode": {
    "name": "ipython",
    "version": 3
   },
   "file_extension": ".py",
   "mimetype": "text/x-python",
   "name": "python",
   "nbconvert_exporter": "python",
   "pygments_lexer": "ipython3",
   "version": "3.12.8"
  }
 },
 "nbformat": 4,
 "nbformat_minor": 2
}
