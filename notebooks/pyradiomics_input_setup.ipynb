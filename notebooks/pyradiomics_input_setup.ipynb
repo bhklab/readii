{
 "cells": [
  {
   "cell_type": "code",
   "execution_count": null,
   "id": "cc5ebb0b",
   "metadata": {},
   "outputs": [],
   "source": [
    "import pandas as pd\n",
    "import numpy as np\n",
    "from pathlib import Path"
   ]
  },
  {
   "cell_type": "code",
   "execution_count": null,
   "id": "de161993",
   "metadata": {},
   "outputs": [],
   "source": [
    "# filepath setup\n",
    "DATA_SOURCE = \"TCIA\"\n",
    "DATASET_NAME = \"CC-Radiomics-Phantom\"\n",
    "DATA_DIR = \"../data/procdata\"\n",
    "MIT_INDEX_DIR = \"mit_\" + DATASET_NAME\n",
    "\n",
    "\n",
    "data_index_file = Path(DATA_DIR, f\"{DATA_SOURCE}_{DATASET_NAME}\", MIT_INDEX_DIR, f\"{MIT_INDEX_DIR}_index.csv\")\n",
    "pyrad_index_output_path = Path(DATA_DIR, \"pyradiomics_features\", f\"pyrad_{DATASET_NAME}_index.csv\")"
   ]
  },
  {
   "cell_type": "code",
   "execution_count": null,
   "id": "ba81e5b1",
   "metadata": {},
   "outputs": [],
   "source": [
    "# Read in index file output by imgtools autopipeline\n",
    "dataset_index = pd.read_csv(data_index_file)"
   ]
  },
  {
   "cell_type": "code",
   "execution_count": null,
   "id": "e9c1d210",
   "metadata": {},
   "outputs": [],
   "source": [
    "# List of image IDs to keep - which masks to use with the image (CT)\n",
    "keep_image_ids = ['020_00', '030_00', '040_00', '050_00', 'acryllic_00', 'cork_00', 'dcork_00', 'resin_00', 'rubber_00', 'wood_00', 'CT']\n",
    "\n",
    "# Select out just the rows from the dataset index with the selected IDs\n",
    "select_dataset_index = dataset_index[dataset_index['ImageID'].isin(keep_image_ids)]\n",
    "\n",
    "# Setting up the pyradiomics input file \n",
    "# Initialize an empty list to store the image, mask pairs as lists\n",
    "pyrad_dataset_list = []\n",
    "# Get the unique samples from the dataset index\n",
    "unique_sample_ids = np.sort(select_dataset_index['SampleID'].unique())\n",
    "\n",
    "relative_path_prefix = Path(\"..\", MIT_INDEX_DIR)\n",
    "\n",
    "for id in unique_sample_ids:\n",
    "    # Get all the index rows associated with this sample\n",
    "    sample_rows = select_dataset_index[select_dataset_index['SampleID'] == id]\n",
    "    # Get the image row - this currently assumes there's only one CT per sample\n",
    "    image_row = sample_rows[sample_rows['Modality'] == 'CT']\n",
    "\n",
    "    # Get the path to the image file as a list to remove the index, metadata, etc. from the dataframe\n",
    "    image_path = image_row['filepath'].to_list()\n",
    "    image_path = [relative_path_prefix / image_path[0]]\n",
    "\n",
    "    # Iterate over the mask files associated with this sample image\n",
    "    for mask_row in sample_rows[sample_rows['Modality'] == 'RTSTRUCT'].itertuples(index=False):\n",
    "        # Make a list of the sampleID, image and mask paths and then append this to the dataset list\n",
    "        pyrad_dataset_list.append([id] + image_path + [relative_path_prefix / mask_row[0]])\n",
    "\n",
    "# Convert the list of image + mask pair lists to a dataframe for saving\n",
    "pyrad_dataset_df = pd.DataFrame(data=pyrad_dataset_list, columns=['ID', 'Image', 'Mask'])"
   ]
  },
  {
   "cell_type": "code",
   "execution_count": null,
   "id": "7c16a150",
   "metadata": {},
   "outputs": [],
   "source": [
    "# Save out the dataframe as a csv for pyradiomics to use for feature extraction\n",
    "pyrad_dataset_df.to_csv(\"../data/procdata/TCIA_CC-Radiomics-Phantom/pyradiomics_features/pyrad_CC-Radiomics-Phantom_index.csv\", index=False)"
   ]
  },
  {
   "cell_type": "code",
   "execution_count": null,
   "id": "35403d5b",
   "metadata": {},
   "outputs": [],
   "source": []
  }
 ],
 "metadata": {
  "kernelspec": {
   "display_name": "dev",
   "language": "python",
   "name": "python3"
  },
  "language_info": {
   "codemirror_mode": {
    "name": "ipython",
    "version": 3
   },
   "file_extension": ".py",
   "mimetype": "text/x-python",
   "name": "python",
   "nbconvert_exporter": "python",
   "pygments_lexer": "ipython3",
   "version": "3.12.8"
  }
 },
 "nbformat": 4,
 "nbformat_minor": 5
}
