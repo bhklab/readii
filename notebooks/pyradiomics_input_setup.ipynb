{
 "cells": [
  {
   "cell_type": "code",
   "execution_count": null,
   "id": "cc5ebb0b",
   "metadata": {},
   "outputs": [],
   "source": [
    "import pandas as pd\n",
    "import numpy as np\n",
    "from pathlib import Path\n",
    "\n",
    "from radiomics import featureextractor, setVerbosity\n",
    "setVerbosity(50)\n",
    "\n",
    "import SimpleITK as sitk"
   ]
  },
  {
   "cell_type": "code",
   "execution_count": null,
   "id": "de161993",
   "metadata": {},
   "outputs": [],
   "source": [
    "# filepath setup\n",
    "DATA_SOURCE = \"TCIA\"\n",
    "DATASET_NAME = \"HEAD-NECK-RADIOMICS-HN1\"\n",
    "DATA_DIR = Path(\"../data/procdata\", f\"{DATA_SOURCE}_{DATASET_NAME}\")\n",
    "MIT_INDEX_DIR = \"mit_\" + DATASET_NAME\n",
    "\n",
    "\n",
    "data_index_file = Path(DATA_DIR, MIT_INDEX_DIR, f\"{MIT_INDEX_DIR}_index.csv\")\n",
    "pyrad_output_path = Path(DATA_DIR, \"pyradiomics_features\")\n",
    "pyrad_output_path.mkdir(parents = True, exist_ok=True)"
   ]
  },
  {
   "cell_type": "code",
   "execution_count": null,
   "id": "ed6619d2",
   "metadata": {},
   "outputs": [],
   "source": [
    "# Construct file path lists for images and masks\n",
    "image_files = sorted((DATA_DIR / MIT_INDEX_DIR).rglob(pattern=\"*/CT*/CT.nii.gz\"))\n",
    "mask_files = sorted((DATA_DIR / MIT_INDEX_DIR).rglob(pattern=\"*/RT*/*.nii.gz\"))\n",
    "\n",
    "# Get list of sample IDs from top of data directory\n",
    "unique_sample_ids = [sample_dir.name for sample_dir in sorted((DATA_DIR / MIT_INDEX_DIR).glob(pattern=\"*/\"))]\n",
    "\n",
    "# Construct dataframe to iterate over\n",
    "pyrad_dataset_df = pd.DataFrame(data = {'ID': unique_sample_ids, 'Image': image_files, 'Mask': mask_files})"
   ]
  },
  {
   "cell_type": "code",
   "execution_count": null,
   "id": "7c16a150",
   "metadata": {},
   "outputs": [],
   "source": [
    "# Save out the dataframe as a csv for pyradiomics to use for feature extraction\n",
    "pyrad_dataset_df.to_csv(pyrad_output_path / f\"pyrad_{DATASET_NAME}_index.csv\", index=False)"
   ]
  },
  {
   "cell_type": "markdown",
   "id": "6b1d4778",
   "metadata": {},
   "source": [
    "### Make pyradiomics dataframe from MIT output\n",
    "Disabled until index file issues are resolved"
   ]
  },
  {
   "cell_type": "code",
   "execution_count": null,
   "id": "e9c1d210",
   "metadata": {},
   "outputs": [],
   "source": [
    "# Read in index file output by imgtools autopipeline\n",
    "# dataset_index = pd.read_csv(data_index_file)\n",
    "\n",
    "# List of image IDs to keep - which masks to use with the image (CT)\n",
    "# keep_image_ids = ['020_00', '030_00', '040_00', '050_00', 'acryllic_00', 'cork_00', 'dcork_00', 'resin_00', 'rubber_00', 'wood_00', 'CT']\n",
    "\n",
    "# Select out just the rows from the dataset index with the selected IDs\n",
    "# dataset_index = dataset_index[dataset_index['ImageID'].isin(keep_image_ids)]\n",
    "\n",
    "# Setting up the pyradiomics input file \n",
    "# Initialize an empty list to store the image, mask pairs as lists\n",
    "# pyrad_dataset_list = []\n",
    "# # Get the unique samples from the dataset index\n",
    "# # unique_sample_ids = np.sort(dataset_index['SampleID'].unique())\n",
    "\n",
    "# relative_path_prefix = Path(DATA_DIR, MIT_INDEX_DIR)\n",
    "\n",
    "# for id in unique_sample_ids:\n",
    "#     # Get all the index rows associated with this sample\n",
    "#     sample_rows = dataset_index[dataset_index['SampleID'] == id]\n",
    "#     try:\n",
    "#         # Get the image row - this currently assumes there's only one CT per sample\n",
    "#         image_row = sample_rows[sample_rows['Modality'] == 'CT']\n",
    "\n",
    "#         # Get the path to the image file as a list to remove the index, metadata, etc. from the dataframe\n",
    "#         image_path = image_row['filepath'].to_list()\n",
    "#         image_path = [relative_path_prefix / image_path[0]]\n",
    "#     except IndexError as e:\n",
    "#         print(f\"Missing CT for sample {id}\")\n",
    "#         continue\n",
    "\n",
    "#     try:\n",
    "#         # Iterate over the mask files associated with this sample image\n",
    "#         for mask_row in sample_rows[sample_rows['Modality'] == 'RTSTRUCT'].itertuples(index=False):\n",
    "#             # Make a list of the sampleID, image and mask paths and then append this to the dataset list\n",
    "#             pyrad_dataset_list.append([id] + image_path + [relative_path_prefix / mask_row[0]])\n",
    "#     except IndexError as e:\n",
    "#         print(f\"Missing RTSTRUCT for sample {id}\")\n",
    "#         continue\n",
    "\n",
    "# # Convert the list of image + mask pair lists to a dataframe for saving\n",
    "# pyrad_dataset_df = pd.DataFrame(data=pyrad_dataset_list, columns=['ID', 'Image', 'Mask'])"
   ]
  },
  {
   "cell_type": "markdown",
   "id": "19111039",
   "metadata": {},
   "source": [
    "# Pyradiomics Feature Extraction"
   ]
  },
  {
   "cell_type": "code",
   "execution_count": null,
   "id": "35403d5b",
   "metadata": {},
   "outputs": [],
   "source": [
    "params = \"../src/readii/data/shape_only_pyradiomics.yaml\"\n",
    "extractor = featureextractor.RadiomicsFeatureExtractor(params)\n",
    "\n",
    "result_list = []\n",
    "\n",
    "for sample in pyrad_dataset_df.itertuples(index=False):\n",
    "    print(f\"Processing {sample[0]}\")\n",
    "    sample_image = sitk.ReadImage(sample[1])\n",
    "    sample_mask = sitk.ReadImage(sample[2])\n",
    "\n",
    "    try:\n",
    "        sample_feature_vector = pd.Series(extractor.execute(sample_image, sample_mask))\n",
    "    except Exception as e:\n",
    "        print(\"Feature extraction failed: \", e)\n",
    "\n",
    "    sample_data = [sample[0], sample[1].name, sample[2].name, sample[1], sample[2]] + sample_feature_vector.to_list()\n",
    "\n",
    "    result_list.append(sample_data)\n",
    "\n",
    "col_names = pyrad_dataset_df.columns.to_list() + [\"Image_path\", \"Mask_path\"] + sample_feature_vector.index.to_list()\n",
    "results_df = pd.DataFrame(data=result_list, columns=col_names)\n",
    "\n",
    "results_df.to_csv(pyrad_output_path / f\"pyrad_{DATASET_NAME}_features.csv\", index=False)"
   ]
  },
  {
   "cell_type": "code",
   "execution_count": null,
   "id": "abc45f5d",
   "metadata": {},
   "outputs": [],
   "source": []
  }
 ],
 "metadata": {
  "kernelspec": {
   "display_name": "dev",
   "language": "python",
   "name": "python3"
  },
  "language_info": {
   "codemirror_mode": {
    "name": "ipython",
    "version": 3
   },
   "file_extension": ".py",
   "mimetype": "text/x-python",
   "name": "python",
   "nbconvert_exporter": "python",
   "pygments_lexer": "ipython3",
   "version": "3.12.10"
  }
 },
 "nbformat": 4,
 "nbformat_minor": 5
}
