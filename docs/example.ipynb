{
    "cells": [
        {
            "cell_type": "markdown",
            "metadata": {},
            "source": [
                "# Example usage - Command line"
            ]
        },
        {
            "cell_type": "markdown",
            "metadata": {},
            "source": [
                "Example with 4D-Lung sample which uses a RTSTRUCT segmentation"
            ]
        },
        {
            "cell_type": "code",
            "execution_count": null,
            "metadata": {},
            "outputs": [],
            "source": [
                "!readii ../tests/4D-Lung ../tests/output/notebook/ --roi_names Tumor_c.\\* --pyradiomics_setting ../src/readii/data/default_pyradiomics.yaml --update true"
            ]
        },
        {
            "cell_type": "markdown",
            "metadata": {},
            "source": [
                "Example with NSCLC Radiogenomics sample which uses a DICOM-SEG segmentation"
            ]
        },
        {
            "cell_type": "code",
            "execution_count": null,
            "metadata": {},
            "outputs": [],
            "source": [
                "!readii ../tests/NSCLC_Radiogenomics ../tests/output/notebook/ --pyradiomics_setting ../src/readii/data/default_pyradiomics.yaml --update true"
            ]
        },
        {
            "cell_type": "markdown",
            "metadata": {},
            "source": [
                "# Example usage - Functions\n",
                "\n",
                "Here we will demonstrate how to use the helper functions in readii to load and preprocess a CT image and a corresponding segmentation in DICOM SEG format."
            ]
        },
        {
            "cell_type": "markdown",
            "metadata": {},
            "source": [
                "## Imports"
            ]
        },
        {
            "cell_type": "code",
            "execution_count": null,
            "metadata": {},
            "outputs": [],
            "source": [
                "from readii.loaders import loadDicomSITK, loadSegmentation\n",
                "from readii.image_processing import flattenImage, alignImages, displayImageSlice, displayCTSegOverlay"
            ]
        },
        {
            "cell_type": "markdown",
            "metadata": {},
            "source": [
                "## Load a CT and segmentation"
            ]
        },
        {
            "cell_type": "markdown",
            "metadata": {},
            "source": [
                "We'll first load in a CT image and segmentation to process."
            ]
        },
        {
            "cell_type": "code",
            "execution_count": null,
            "metadata": {},
            "outputs": [],
            "source": [
                "ctImage = loadDicomSITK(\"../tests/NSCLC_Radiogenomics/R01-001/09-06-1990-NA-CT_CHEST_ABD_PELVIS_WITH_CON-98785/3.000000-THORAX_1.0_B45f-95741\")"
            ]
        },
        {
            "cell_type": "code",
            "execution_count": null,
            "metadata": {},
            "outputs": [],
            "source": [
                "segImages = loadSegmentation(\"../tests/NSCLC_Radiogenomics/R01-001/09-06-1990-NA-CT_CHEST_ABD_PELVIS_WITH_CON-98785/1000.000000-3D_Slicer_segmentation_result-67652/1-1.dcm\",\n",
                "                            modality = 'SEG')\n",
                "print(segImages)"
            ]
        },
        {
            "cell_type": "markdown",
            "metadata": {},
            "source": [
                "We can see here that the segmentation file contained one region of interest labelled 'Heart'."
            ]
        },
        {
            "cell_type": "markdown",
            "metadata": {},
            "source": [
                "## Pre-process the segmentation"
            ]
        },
        {
            "cell_type": "markdown",
            "metadata": {},
            "source": [
                "We can then process the segmentation image so it's ready for analysis with the CT. We process each region of interest (ROI) individually, so we extract the 'Heart' segmentation first."
            ]
        },
        {
            "cell_type": "code",
            "execution_count": null,
            "metadata": {},
            "outputs": [],
            "source": [
                "roiImage = segImages['Heart']"
            ]
        },
        {
            "cell_type": "markdown",
            "metadata": {},
            "source": [
                "Now, let's ensure the dimensions match between the CT and heart segmentation."
            ]
        },
        {
            "cell_type": "code",
            "execution_count": null,
            "metadata": {},
            "outputs": [],
            "source": [
                "print(\"CT dimensions: \", ctImage.GetSize())\n",
                "print(\"Segmentation dimensions: \", roiImage.GetSize())"
            ]
        },
        {
            "cell_type": "markdown",
            "metadata": {},
            "source": [
                "We can see that the segmentation has an extra dimension with a length of 1. Let's remove this."
            ]
        },
        {
            "cell_type": "code",
            "execution_count": null,
            "metadata": {},
            "outputs": [],
            "source": [
                "flattenedROIImage = flattenImage(roiImage)\n",
                "print(\"Segmentation dimensions: \", flattenedROIImage.GetSize())"
            ]
        },
        {
            "cell_type": "markdown",
            "metadata": {},
            "source": [
                "Next is aligning the segmentation to the CT."
            ]
        },
        {
            "cell_type": "code",
            "execution_count": null,
            "metadata": {},
            "outputs": [],
            "source": [
                "alignedROIImage = alignImages(ctImage, flattenedROIImage)"
            ]
        },
        {
            "cell_type": "markdown",
            "metadata": {},
            "source": [
                "## Plot CT image"
            ]
        },
        {
            "cell_type": "markdown",
            "metadata": {},
            "source": [
                "We can now plot the CT image."
            ]
        },
        {
            "cell_type": "code",
            "execution_count": null,
            "metadata": {},
            "outputs": [],
            "source": [
                "displayImageSlice(ctImage, 240)"
            ]
        },
        {
            "cell_type": "code",
            "execution_count": null,
            "metadata": {},
            "outputs": [],
            "source": [
                "displayCTSegOverlay(ctImage, alignedROIImage)"
            ]
        },
        {
            "cell_type": "markdown",
            "metadata": {},
            "source": [
                "## Extract Radiomic Features"
            ]
        },
        {
            "cell_type": "code",
            "execution_count": null,
            "metadata": {},
            "outputs": [],
            "source": [
                "from readii.feature_extraction import singleRadiomicFeatureExtraction\n",
                "\n",
                "pyradiomicsParamFilePath = \"../src/readii/data/default_pyradiomics.yaml\"\n",
                "radiomicFeatures = singleRadiomicFeatureExtraction(ctImage, roiImage, pyradiomicsParamFilePath)"
            ]
        },
        {
            "cell_type": "code",
            "execution_count": null,
            "metadata": {},
            "outputs": [],
            "source": [
                "import pandas as pd\n",
                "pd.DataFrame.from_dict(radiomicFeatures, orient=\"index\").transpose()"
            ]
        },
        {
            "cell_type": "markdown",
            "metadata": {},
            "source": [
                "## Negative Control Creation"
            ]
        },
        {
            "cell_type": "code",
            "execution_count": null,
            "metadata": {},
            "outputs": [],
            "source": [
                "from readii.negative_controls import *\n",
                "import numpy as np"
            ]
        },
        {
            "cell_type": "markdown",
            "metadata": {},
            "source": [
                "### Shuffle whole image"
            ]
        },
        {
            "cell_type": "code",
            "execution_count": null,
            "metadata": {},
            "outputs": [],
            "source": [
                "shuffledImage = shuffleImage(ctImage)\n",
                "originalPixels = sitk.GetArrayFromImage(ctImage)\n",
                "shuffledPixels = sitk.GetArrayFromImage(shuffledImage)"
            ]
        },
        {
            "cell_type": "code",
            "execution_count": null,
            "metadata": {},
            "outputs": [],
            "source": [
                "displayCTSegOverlay(shuffledImage, alignedROIImage, alpha=0.4)"
            ]
        },
        {
            "cell_type": "code",
            "execution_count": null,
            "metadata": {},
            "outputs": [],
            "source": [
                "from readii.image_processing import getROICenterCoords\n",
                "\n",
                "getROICenterCoords(alignedROIImage)\n"
            ]
        },
        {
            "cell_type": "code",
            "execution_count": null,
            "metadata": {},
            "outputs": [],
            "source": [
                "sliceToCheck = int(originalPixels.shape[0] / 2)\n",
                "columnIdx = int(originalPixels.shape[1] / 2)\n",
                "rowIdx = columnIdx"
            ]
        },
        {
            "cell_type": "code",
            "execution_count": null,
            "metadata": {},
            "outputs": [],
            "source": [
                "originalColumn = originalPixels[sliceToCheck, columnIdx, :]\n",
                "originalRow = originalPixels[sliceToCheck, :, rowIdx]\n",
                "\n",
                "shuffledColumn = shuffledPixels[sliceToCheck, columnIdx, :]\n",
                "shuffledRow = shuffledPixels[sliceToCheck, :, rowIdx]"
            ]
        },
        {
            "cell_type": "code",
            "execution_count": null,
            "metadata": {},
            "outputs": [],
            "source": [
                "all(originalColumn == shuffledColumn)"
            ]
        },
        {
            "cell_type": "code",
            "execution_count": null,
            "metadata": {},
            "outputs": [],
            "source": [
                "all(originalRow == shuffledRow)"
            ]
        },
        {
            "cell_type": "code",
            "execution_count": null,
            "metadata": {},
            "outputs": [],
            "source": [
                "sum(originalColumn == originalColumn)"
            ]
        },
        {
            "cell_type": "markdown",
            "metadata": {},
            "source": [
                "### Display negative control"
            ]
        },
        {
            "cell_type": "code",
            "execution_count": null,
            "metadata": {},
            "outputs": [],
            "source": []
        },
        {
            "cell_type": "code",
            "execution_count": null,
            "metadata": {},
            "outputs": [],
            "source": []
        }
    ],
    "metadata": {
        "kernelspec": {
            "display_name": "Python 3",
            "language": "python",
            "name": "python3"
        },
        "language_info": {
            "codemirror_mode": {
                "name": "ipython",
                "version": 3
            },
            "file_extension": ".py",
            "mimetype": "text/x-python",
            "name": "python",
            "nbconvert_exporter": "python",
            "pygments_lexer": "ipython3",
            "version": "3.9.18"
        }
    },
    "nbformat": 4,
    "nbformat_minor": 4
}
